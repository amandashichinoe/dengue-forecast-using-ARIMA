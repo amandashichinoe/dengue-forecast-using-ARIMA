{
 "cells": [
  {
   "cell_type": "code",
   "execution_count": 1,
   "metadata": {},
   "outputs": [],
   "source": [
    "%matplotlib inline\n",
    "import os\n",
    "os.chdir('../')\n",
    "\n",
    "import pandas as pd"
   ]
  },
  {
   "cell_type": "code",
   "execution_count": 3,
   "metadata": {},
   "outputs": [],
   "source": [
    "geocode_data = 'datasets/codigos_municipios_IBGE.csv'\n",
    "folder_target = 'datasets/'\n",
    "cidade = 'SOROCABA'\n",
    "semana_inicio = '1'\n",
    "semana_fim = '30'\n",
    "ano_inicio = '2010'\n",
    "ano_fim = '2023'"
   ]
  },
  {
   "cell_type": "code",
   "execution_count": 4,
   "metadata": {},
   "outputs": [],
   "source": [
    "def get_geocode(cidade=None):\n",
    "    geocodes = pd.read_csv(geocode_data)\n",
    "    if cidade is not None:\n",
    "        geocodes = geocodes[geocodes['MUNICIPIO'] == cidade.upper()]\n",
    "    return geocodes"
   ]
  },
  {
   "cell_type": "code",
   "execution_count": 5,
   "metadata": {},
   "outputs": [],
   "source": [
    "def get_dengue_data(ew_start, ew_end, ey_start, ey_end, folder_target, geocodes):\n",
    "    \"\"\"\n",
    "    Conecta com a API InfoDengue, extrai os dados e armazena em arquivos .csv\n",
    "    ----------\n",
    "    Parâmetros\n",
    "    geocodes: dataframe contendo os dados cidade, uf e código do município (conforme o IBGE)\n",
    "    ew_start: primeira semana epidemiologica desejada\n",
    "    ew_end: última semana epidemiológica desejada\n",
    "    ey_start: ano da primeira semana epidemiológica desejada\n",
    "    ey_end: ey_end: ano da última semana epidemiológica desejada\n",
    "    folder_target: diretório onde os arquivos csv devem ser armazenados\n",
    "    \"\"\"\n",
    "    \n",
    "    if isinstance(geocodes, pd.DataFrame):\n",
    "        for index, row in geocodes.iterrows():\n",
    "            cidade = row['MUNICIPIO']\n",
    "            uf = row['SIGLA_UF']\n",
    "            geocode = str(row['Código Município Completo'])\n",
    "            disease = 'dengue'\n",
    "            format = 'csv'\n",
    "\n",
    "            url = 'https://info.dengue.mat.br/api/alertcity' # url da api\n",
    "            search_filter = (f\"geocode={geocode}&disease={disease}&format={format}&ew_start={ew_start}&ew_end={ew_end}&ey_start={ey_start}&ey_end={ey_end}\")\n",
    "            df = pd.read_csv('%s?%s' % (url, search_filter))\n",
    "            df.to_csv(f\"{folder_target}/{cidade}_{uf}_{geocode}_{ey_start}-{ey_end}-{ew_start}-{ew_end}.csv\")\n",
    "\n",
    "    else:\n",
    "         print('geocodes object must be a Pandas Dataframe')\n",
    "            "
   ]
  },
  {
   "cell_type": "code",
   "execution_count": 6,
   "metadata": {},
   "outputs": [],
   "source": [
    "geocodes = get_geocode(cidade=cidade)\n",
    "get_dengue_data(semana_inicio, semana_fim, ano_inicio, ano_fim, folder_target, geocodes)"
   ]
  }
 ],
 "metadata": {
  "kernelspec": {
   "display_name": "venv",
   "language": "python",
   "name": "python3"
  },
  "language_info": {
   "codemirror_mode": {
    "name": "ipython",
    "version": 3
   },
   "file_extension": ".py",
   "mimetype": "text/x-python",
   "name": "python",
   "nbconvert_exporter": "python",
   "pygments_lexer": "ipython3",
   "version": "3.10.11"
  },
  "orig_nbformat": 4
 },
 "nbformat": 4,
 "nbformat_minor": 2
}
